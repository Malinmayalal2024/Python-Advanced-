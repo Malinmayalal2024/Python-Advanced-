{
 "cells": [
  {
   "cell_type": "code",
   "execution_count": 1,
   "id": "5c66e8f0",
   "metadata": {},
   "outputs": [],
   "source": [
    "import pandas as pd"
   ]
  },
  {
   "cell_type": "code",
   "execution_count": 2,
   "id": "aba61ead",
   "metadata": {},
   "outputs": [
    {
     "data": {
      "text/plain": [
       "{'Name': ['Malin', 'Anuraj', 'Anagha'],\n",
       " 'Age': [27, 27, 21],\n",
       " 'Salary': [20000, 25000, 30000]}"
      ]
     },
     "execution_count": 2,
     "metadata": {},
     "output_type": "execute_result"
    }
   ],
   "source": [
    "data={\"Name\":[\"Malin\",\"Anuraj\",\"Anagha\"],\"Age\":[27,27,21],\"Salary\":[20000,25000,30000]};data"
   ]
  },
  {
   "cell_type": "code",
   "execution_count": 4,
   "id": "8743e407",
   "metadata": {},
   "outputs": [
    {
     "data": {
      "text/html": [
       "<div>\n",
       "<style scoped>\n",
       "    .dataframe tbody tr th:only-of-type {\n",
       "        vertical-align: middle;\n",
       "    }\n",
       "\n",
       "    .dataframe tbody tr th {\n",
       "        vertical-align: top;\n",
       "    }\n",
       "\n",
       "    .dataframe thead th {\n",
       "        text-align: right;\n",
       "    }\n",
       "</style>\n",
       "<table border=\"1\" class=\"dataframe\">\n",
       "  <thead>\n",
       "    <tr style=\"text-align: right;\">\n",
       "      <th></th>\n",
       "      <th>Name</th>\n",
       "      <th>Age</th>\n",
       "      <th>Salary</th>\n",
       "    </tr>\n",
       "  </thead>\n",
       "  <tbody>\n",
       "    <tr>\n",
       "      <th>0</th>\n",
       "      <td>Malin</td>\n",
       "      <td>27</td>\n",
       "      <td>20000</td>\n",
       "    </tr>\n",
       "    <tr>\n",
       "      <th>1</th>\n",
       "      <td>Anuraj</td>\n",
       "      <td>27</td>\n",
       "      <td>25000</td>\n",
       "    </tr>\n",
       "    <tr>\n",
       "      <th>2</th>\n",
       "      <td>Anagha</td>\n",
       "      <td>21</td>\n",
       "      <td>30000</td>\n",
       "    </tr>\n",
       "  </tbody>\n",
       "</table>\n",
       "</div>"
      ],
      "text/plain": [
       "     Name  Age  Salary\n",
       "0   Malin   27   20000\n",
       "1  Anuraj   27   25000\n",
       "2  Anagha   21   30000"
      ]
     },
     "execution_count": 4,
     "metadata": {},
     "output_type": "execute_result"
    }
   ],
   "source": [
    "d=pd.DataFrame(data);d                                        # To create a DataFrame"
   ]
  },
  {
   "cell_type": "markdown",
   "id": "cd5768fb",
   "metadata": {},
   "source": [
    "# To_Csv"
   ]
  },
  {
   "cell_type": "code",
   "execution_count": 6,
   "id": "00eb2dec",
   "metadata": {},
   "outputs": [],
   "source": [
    "d.to_csv(\"output.csv\",index=False)                            # To convert the DataFrame to a csv file %"
   ]
  },
  {
   "cell_type": "code",
   "execution_count": 9,
   "id": "26658bc4",
   "metadata": {},
   "outputs": [
    {
     "data": {
      "text/plain": [
       "'C:\\\\Users\\\\malin\\\\Python Libraries\\\\Pandas'"
      ]
     },
     "execution_count": 9,
     "metadata": {},
     "output_type": "execute_result"
    }
   ],
   "source": [
    "import os                     \n",
    "e=os.getcwd();e                                               # To get the Path"
   ]
  },
  {
   "cell_type": "code",
   "execution_count": 10,
   "id": "9b2c51e9",
   "metadata": {},
   "outputs": [
    {
     "data": {
      "text/html": [
       "<div>\n",
       "<style scoped>\n",
       "    .dataframe tbody tr th:only-of-type {\n",
       "        vertical-align: middle;\n",
       "    }\n",
       "\n",
       "    .dataframe tbody tr th {\n",
       "        vertical-align: top;\n",
       "    }\n",
       "\n",
       "    .dataframe thead th {\n",
       "        text-align: right;\n",
       "    }\n",
       "</style>\n",
       "<table border=\"1\" class=\"dataframe\">\n",
       "  <thead>\n",
       "    <tr style=\"text-align: right;\">\n",
       "      <th></th>\n",
       "      <th>Name</th>\n",
       "      <th>Age</th>\n",
       "      <th>Salary</th>\n",
       "    </tr>\n",
       "  </thead>\n",
       "  <tbody>\n",
       "    <tr>\n",
       "      <th>0</th>\n",
       "      <td>Malin</td>\n",
       "      <td>27</td>\n",
       "      <td>20000</td>\n",
       "    </tr>\n",
       "    <tr>\n",
       "      <th>1</th>\n",
       "      <td>Anuraj</td>\n",
       "      <td>27</td>\n",
       "      <td>25000</td>\n",
       "    </tr>\n",
       "    <tr>\n",
       "      <th>2</th>\n",
       "      <td>Anagha</td>\n",
       "      <td>21</td>\n",
       "      <td>30000</td>\n",
       "    </tr>\n",
       "  </tbody>\n",
       "</table>\n",
       "</div>"
      ],
      "text/plain": [
       "     Name  Age  Salary\n",
       "0   Malin   27   20000\n",
       "1  Anuraj   27   25000\n",
       "2  Anagha   21   30000"
      ]
     },
     "execution_count": 10,
     "metadata": {},
     "output_type": "execute_result"
    }
   ],
   "source": [
    "a=pd.read_csv(r\"C:\\\\Users\\\\malin\\\\Python Libraries\\\\Pandas\\\\output.csv\");a          # To read the converted csv "
   ]
  },
  {
   "cell_type": "code",
   "execution_count": 11,
   "id": "2a786bc7",
   "metadata": {},
   "outputs": [
    {
     "data": {
      "text/html": [
       "<div>\n",
       "<style scoped>\n",
       "    .dataframe tbody tr th:only-of-type {\n",
       "        vertical-align: middle;\n",
       "    }\n",
       "\n",
       "    .dataframe tbody tr th {\n",
       "        vertical-align: top;\n",
       "    }\n",
       "\n",
       "    .dataframe thead th {\n",
       "        text-align: right;\n",
       "    }\n",
       "</style>\n",
       "<table border=\"1\" class=\"dataframe\">\n",
       "  <thead>\n",
       "    <tr style=\"text-align: right;\">\n",
       "      <th></th>\n",
       "      <th>Age</th>\n",
       "      <th>Salary</th>\n",
       "    </tr>\n",
       "  </thead>\n",
       "  <tbody>\n",
       "    <tr>\n",
       "      <th>count</th>\n",
       "      <td>3.000000</td>\n",
       "      <td>3.0</td>\n",
       "    </tr>\n",
       "    <tr>\n",
       "      <th>mean</th>\n",
       "      <td>25.000000</td>\n",
       "      <td>25000.0</td>\n",
       "    </tr>\n",
       "    <tr>\n",
       "      <th>std</th>\n",
       "      <td>3.464102</td>\n",
       "      <td>5000.0</td>\n",
       "    </tr>\n",
       "    <tr>\n",
       "      <th>min</th>\n",
       "      <td>21.000000</td>\n",
       "      <td>20000.0</td>\n",
       "    </tr>\n",
       "    <tr>\n",
       "      <th>25%</th>\n",
       "      <td>24.000000</td>\n",
       "      <td>22500.0</td>\n",
       "    </tr>\n",
       "    <tr>\n",
       "      <th>50%</th>\n",
       "      <td>27.000000</td>\n",
       "      <td>25000.0</td>\n",
       "    </tr>\n",
       "    <tr>\n",
       "      <th>75%</th>\n",
       "      <td>27.000000</td>\n",
       "      <td>27500.0</td>\n",
       "    </tr>\n",
       "    <tr>\n",
       "      <th>max</th>\n",
       "      <td>27.000000</td>\n",
       "      <td>30000.0</td>\n",
       "    </tr>\n",
       "  </tbody>\n",
       "</table>\n",
       "</div>"
      ],
      "text/plain": [
       "             Age   Salary\n",
       "count   3.000000      3.0\n",
       "mean   25.000000  25000.0\n",
       "std     3.464102   5000.0\n",
       "min    21.000000  20000.0\n",
       "25%    24.000000  22500.0\n",
       "50%    27.000000  25000.0\n",
       "75%    27.000000  27500.0\n",
       "max    27.000000  30000.0"
      ]
     },
     "execution_count": 11,
     "metadata": {},
     "output_type": "execute_result"
    }
   ],
   "source": [
    "a.describe()                                                             # To get a describtion of mean,count..from the csv "
   ]
  },
  {
   "cell_type": "markdown",
   "id": "b40d7d4a",
   "metadata": {},
   "source": [
    "# To_Excel"
   ]
  },
  {
   "cell_type": "code",
   "execution_count": 12,
   "id": "4fd45dff",
   "metadata": {},
   "outputs": [],
   "source": [
    "d.to_excel(\"output.xlsx\",index=False)                                                  # To change a DataFrame to Excel FIle"
   ]
  },
  {
   "cell_type": "code",
   "execution_count": 13,
   "id": "7a4e7c53",
   "metadata": {},
   "outputs": [
    {
     "data": {
      "text/html": [
       "<div>\n",
       "<style scoped>\n",
       "    .dataframe tbody tr th:only-of-type {\n",
       "        vertical-align: middle;\n",
       "    }\n",
       "\n",
       "    .dataframe tbody tr th {\n",
       "        vertical-align: top;\n",
       "    }\n",
       "\n",
       "    .dataframe thead th {\n",
       "        text-align: right;\n",
       "    }\n",
       "</style>\n",
       "<table border=\"1\" class=\"dataframe\">\n",
       "  <thead>\n",
       "    <tr style=\"text-align: right;\">\n",
       "      <th></th>\n",
       "      <th>Name</th>\n",
       "      <th>Age</th>\n",
       "      <th>Salary</th>\n",
       "    </tr>\n",
       "  </thead>\n",
       "  <tbody>\n",
       "    <tr>\n",
       "      <th>0</th>\n",
       "      <td>Malin</td>\n",
       "      <td>27</td>\n",
       "      <td>20000</td>\n",
       "    </tr>\n",
       "    <tr>\n",
       "      <th>1</th>\n",
       "      <td>Anuraj</td>\n",
       "      <td>27</td>\n",
       "      <td>25000</td>\n",
       "    </tr>\n",
       "    <tr>\n",
       "      <th>2</th>\n",
       "      <td>Anagha</td>\n",
       "      <td>21</td>\n",
       "      <td>30000</td>\n",
       "    </tr>\n",
       "  </tbody>\n",
       "</table>\n",
       "</div>"
      ],
      "text/plain": [
       "     Name  Age  Salary\n",
       "0   Malin   27   20000\n",
       "1  Anuraj   27   25000\n",
       "2  Anagha   21   30000"
      ]
     },
     "execution_count": 13,
     "metadata": {},
     "output_type": "execute_result"
    }
   ],
   "source": [
    "z=pd.read_excel(r\"C:\\\\Users\\\\malin\\\\Python Libraries\\\\Pandas\\\\output.xlsx\");z          # To read the converted Excel file    "
   ]
  },
  {
   "cell_type": "markdown",
   "id": "74f5cde9",
   "metadata": {},
   "source": [
    "# Series_DataStructure"
   ]
  },
  {
   "cell_type": "code",
   "execution_count": null,
   "id": "b3982716",
   "metadata": {},
   "outputs": [],
   "source": [
    "# Datastructure of pandas - DatatFrame\n",
    "# Types of Data Structure\n",
    "        # .DataFrame   -2D and above(Multi Dimensional)\n",
    "        # .Series      -1D only"
   ]
  },
  {
   "cell_type": "code",
   "execution_count": 17,
   "id": "81e847e0",
   "metadata": {},
   "outputs": [
    {
     "data": {
      "text/plain": [
       "0    1\n",
       "1    2\n",
       "2    3\n",
       "3    4\n",
       "4    5\n",
       "dtype: int64"
      ]
     },
     "execution_count": 17,
     "metadata": {},
     "output_type": "execute_result"
    }
   ],
   "source": [
    "x=[1,2,3,4,5]\n",
    "y=pd.Series(x);y                                                   # 1D ,so "
   ]
  },
  {
   "cell_type": "code",
   "execution_count": 18,
   "id": "7fdcef53",
   "metadata": {},
   "outputs": [],
   "source": [
    "import numpy as np"
   ]
  },
  {
   "cell_type": "code",
   "execution_count": 23,
   "id": "073565b4",
   "metadata": {},
   "outputs": [
    {
     "data": {
      "text/plain": [
       "0     6\n",
       "1     7\n",
       "2     8\n",
       "3     9\n",
       "4    10\n",
       "dtype: int32"
      ]
     },
     "execution_count": 23,
     "metadata": {},
     "output_type": "execute_result"
    }
   ],
   "source": [
    "array=np.array([6,7,8,9,10])\n",
    "b=pd.Series(array);b"
   ]
  },
  {
   "cell_type": "code",
   "execution_count": 26,
   "id": "113e90f0",
   "metadata": {},
   "outputs": [
    {
     "data": {
      "text/plain": [
       "Name       Rejoice\n",
       "Place     Thrissur\n",
       "Age             25\n",
       "Salary       25000\n",
       "dtype: object"
      ]
     },
     "execution_count": 26,
     "metadata": {},
     "output_type": "execute_result"
    }
   ],
   "source": [
    "dt={\"Name\":\"Rejoice\",\"Place\":\"Thrissur\",\"Age\":25,\"Salary\":25000}\n",
    "bt=pd.Series(dt);bt"
   ]
  },
  {
   "cell_type": "code",
   "execution_count": 30,
   "id": "dcf709ac",
   "metadata": {},
   "outputs": [
    {
     "data": {
      "text/plain": [
       "array(['Rejoice', 'Thrissur', 25, 25000], dtype=object)"
      ]
     },
     "execution_count": 30,
     "metadata": {},
     "output_type": "execute_result"
    }
   ],
   "source": [
    "bt.values"
   ]
  },
  {
   "cell_type": "code",
   "execution_count": 31,
   "id": "b85c98bf",
   "metadata": {},
   "outputs": [
    {
     "data": {
      "text/plain": [
       "Index(['Name', 'Place', 'Age', 'Salary'], dtype='object')"
      ]
     },
     "execution_count": 31,
     "metadata": {},
     "output_type": "execute_result"
    }
   ],
   "source": [
    "bt.index"
   ]
  },
  {
   "cell_type": "code",
   "execution_count": 32,
   "id": "908dc7bd",
   "metadata": {},
   "outputs": [
    {
     "data": {
      "text/plain": [
       "dtype('O')"
      ]
     },
     "execution_count": 32,
     "metadata": {},
     "output_type": "execute_result"
    }
   ],
   "source": [
    "bt.dtype"
   ]
  },
  {
   "cell_type": "code",
   "execution_count": 35,
   "id": "5fe0b650",
   "metadata": {},
   "outputs": [
    {
     "data": {
      "text/plain": [
       "6"
      ]
     },
     "execution_count": 35,
     "metadata": {},
     "output_type": "execute_result"
    }
   ],
   "source": [
    "b[0]"
   ]
  },
  {
   "cell_type": "code",
   "execution_count": 36,
   "id": "d1ae6a96",
   "metadata": {},
   "outputs": [
    {
     "data": {
      "text/plain": [
       "'Rejoice'"
      ]
     },
     "execution_count": 36,
     "metadata": {},
     "output_type": "execute_result"
    }
   ],
   "source": [
    "bt[0]"
   ]
  },
  {
   "cell_type": "code",
   "execution_count": 42,
   "id": "6586c71b",
   "metadata": {},
   "outputs": [
    {
     "data": {
      "text/plain": [
       "5"
      ]
     },
     "execution_count": 42,
     "metadata": {},
     "output_type": "execute_result"
    }
   ],
   "source": [
    "maxy=y.max();maxy                        # MAx value in a Series list"
   ]
  },
  {
   "cell_type": "code",
   "execution_count": 45,
   "id": "4aca2211",
   "metadata": {},
   "outputs": [
    {
     "data": {
      "text/plain": [
       "1"
      ]
     },
     "execution_count": 45,
     "metadata": {},
     "output_type": "execute_result"
    }
   ],
   "source": [
    "miny=y.min();miny                        # Min value in a Series list"
   ]
  },
  {
   "cell_type": "code",
   "execution_count": 41,
   "id": "4d005bc4",
   "metadata": {},
   "outputs": [
    {
     "data": {
      "text/plain": [
       "15"
      ]
     },
     "execution_count": 41,
     "metadata": {},
     "output_type": "execute_result"
    }
   ],
   "source": [
    "sumy=y.sum();sumy                        #  Sum of Series list"
   ]
  },
  {
   "cell_type": "code",
   "execution_count": 43,
   "id": "607dc0ad",
   "metadata": {},
   "outputs": [
    {
     "data": {
      "text/plain": [
       "3.0"
      ]
     },
     "execution_count": 43,
     "metadata": {},
     "output_type": "execute_result"
    }
   ],
   "source": [
    "meany=y.mean();meany                     # Mean of Series list"
   ]
  },
  {
   "cell_type": "code",
   "execution_count": 44,
   "id": "57ea0fbc",
   "metadata": {},
   "outputs": [
    {
     "data": {
      "text/plain": [
       "1.5811388300841898"
      ]
     },
     "execution_count": 44,
     "metadata": {},
     "output_type": "execute_result"
    }
   ],
   "source": [
    "stdy=y.std();stdy                        # Standard deviation of Series list"
   ]
  },
  {
   "cell_type": "code",
   "execution_count": null,
   "id": "35cb4813",
   "metadata": {},
   "outputs": [],
   "source": []
  }
 ],
 "metadata": {
  "kernelspec": {
   "display_name": "Python 3 (ipykernel)",
   "language": "python",
   "name": "python3"
  },
  "language_info": {
   "codemirror_mode": {
    "name": "ipython",
    "version": 3
   },
   "file_extension": ".py",
   "mimetype": "text/x-python",
   "name": "python",
   "nbconvert_exporter": "python",
   "pygments_lexer": "ipython3",
   "version": "3.11.4"
  }
 },
 "nbformat": 4,
 "nbformat_minor": 5
}
